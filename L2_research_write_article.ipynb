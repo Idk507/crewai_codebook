{
 "cells": [
  {
   "cell_type": "markdown",
   "metadata": {},
   "source": [
    "You can download the `requirements.txt` for this course from the workspace of this lab. `File --> Open...`"
   ]
  },
  {
   "cell_type": "markdown",
   "metadata": {},
   "source": [
    "# L2: Create Agents to Research and Write an Article\n",
    "\n",
    "In this lesson, you will be introduced to the foundational concepts of multi-agent systems and get an overview of the crewAI framework."
   ]
  },
  {
   "cell_type": "markdown",
   "metadata": {},
   "source": [
    "The libraries are already installed in the classroom. If you're running this notebook on your own machine, you can install the following:\n",
    "```Python\n",
    "!pip install crewai==0.28.8 crewai_tools==0.1.6 langchain_community==0.0.29\n",
    "```"
   ]
  },
  {
   "cell_type": "code",
   "execution_count": 1,
   "metadata": {
    "height": 64
   },
   "outputs": [],
   "source": [
    "# Warning control\n",
    "import warnings\n",
    "warnings.filterwarnings('ignore')"
   ]
  },
  {
   "cell_type": "markdown",
   "metadata": {},
   "source": [
    "- Import from the crewAI libray."
   ]
  },
  {
   "cell_type": "code",
   "execution_count": 2,
   "metadata": {
    "height": 30
   },
   "outputs": [],
   "source": [
    "from crewai import Agent, Task, Crew"
   ]
  },
  {
   "cell_type": "markdown",
   "metadata": {},
   "source": [
    "- As a LLM for your agents, you'll be using OpenAI's `gpt-3.5-turbo`.\n",
    "\n",
    "**Optional Note:** crewAI also allow other popular models to be used as a LLM for your Agents. You can see some of the examples at the [bottom of the notebook](#1)."
   ]
  },
  {
   "cell_type": "code",
   "execution_count": 3,
   "metadata": {
    "height": 113
   },
   "outputs": [],
   "source": [
    "import os\n",
    "from utils import get_openai_api_key\n",
    "\n",
    "openai_api_key = get_openai_api_key()\n",
    "os.environ[\"OPENAI_MODEL_NAME\"] = 'gpt-3.5-turbo'"
   ]
  },
  {
   "cell_type": "markdown",
   "metadata": {},
   "source": [
    "## Creating Agents\n",
    "\n",
    "- Define your Agents, and provide them a `role`, `goal` and `backstory`.\n",
    "- It has been seen that LLMs perform better when they are role playing."
   ]
  },
  {
   "cell_type": "markdown",
   "metadata": {},
   "source": [
    "### Agent: Planner\n",
    "\n",
    "**Note**: The benefit of using _multiple strings_ :\n",
    "```Python\n",
    "varname = \"line 1 of text\"\n",
    "          \"line 2 of text\"\n",
    "```\n",
    "\n",
    "versus the _triple quote docstring_:\n",
    "```Python\n",
    "varname = \"\"\"line 1 of text\n",
    "             line 2 of text\n",
    "          \"\"\"\n",
    "```\n",
    "is that it can avoid adding those whitespaces and newline characters, making it better formatted to be passed to the LLM."
   ]
  },
  {
   "cell_type": "code",
   "execution_count": 4,
   "metadata": {
    "height": 249
   },
   "outputs": [],
   "source": [
    "planner = Agent(\n",
    "    role=\"Content Planner\",\n",
    "    goal=\"Plan engaging and factually accurate content on {topic}\",\n",
    "    backstory=\"You're working on planning a blog article \"\n",
    "              \"about the topic: {topic}.\"\n",
    "              \"You collect information that helps the \"\n",
    "              \"audience learn something \"\n",
    "              \"and make informed decisions. \"\n",
    "              \"Your work is the basis for \"\n",
    "              \"the Content Writer to write an article on this topic.\",\n",
    "    allow_delegation=False,\n",
    "\tverbose=True\n",
    ")"
   ]
  },
  {
   "cell_type": "markdown",
   "metadata": {},
   "source": [
    "### Agent: Writer"
   ]
  },
  {
   "cell_type": "code",
   "execution_count": 5,
   "metadata": {
    "height": 385
   },
   "outputs": [],
   "source": [
    "writer = Agent(\n",
    "    role=\"Content Writer\",\n",
    "    goal=\"Write insightful and factually accurate \"\n",
    "         \"opinion piece about the topic: {topic}\",\n",
    "    backstory=\"You're working on a writing \"\n",
    "              \"a new opinion piece about the topic: {topic}. \"\n",
    "              \"You base your writing on the work of \"\n",
    "              \"the Content Planner, who provides an outline \"\n",
    "              \"and relevant context about the topic. \"\n",
    "              \"You follow the main objectives and \"\n",
    "              \"direction of the outline, \"\n",
    "              \"as provide by the Content Planner. \"\n",
    "              \"You also provide objective and impartial insights \"\n",
    "              \"and back them up with information \"\n",
    "              \"provide by the Content Planner. \"\n",
    "              \"You acknowledge in your opinion piece \"\n",
    "              \"when your statements are opinions \"\n",
    "              \"as opposed to objective statements.\",\n",
    "    allow_delegation=False,\n",
    "    verbose=True\n",
    ")"
   ]
  },
  {
   "cell_type": "markdown",
   "metadata": {},
   "source": [
    "### Agent: Editor"
   ]
  },
  {
   "cell_type": "code",
   "execution_count": 6,
   "metadata": {
    "height": 283
   },
   "outputs": [],
   "source": [
    "editor = Agent(\n",
    "    role=\"Editor\",\n",
    "    goal=\"Edit a given blog post to align with \"\n",
    "         \"the writing style of the organization. \",\n",
    "    backstory=\"You are an editor who receives a blog post \"\n",
    "              \"from the Content Writer. \"\n",
    "              \"Your goal is to review the blog post \"\n",
    "              \"to ensure that it follows journalistic best practices,\"\n",
    "              \"provides balanced viewpoints \"\n",
    "              \"when providing opinions or assertions, \"\n",
    "              \"and also avoids major controversial topics \"\n",
    "              \"or opinions when possible.\",\n",
    "    allow_delegation=False,\n",
    "    verbose=True\n",
    ")"
   ]
  },
  {
   "cell_type": "markdown",
   "metadata": {},
   "source": [
    "## Creating Tasks\n",
    "\n",
    "- Define your Tasks, and provide them a `description`, `expected_output` and `agent`."
   ]
  },
  {
   "cell_type": "markdown",
   "metadata": {},
   "source": [
    "### Task: Plan"
   ]
  },
  {
   "cell_type": "code",
   "execution_count": 7,
   "metadata": {
    "height": 283
   },
   "outputs": [],
   "source": [
    "plan = Task(\n",
    "    description=(\n",
    "        \"1. Prioritize the latest trends, key players, \"\n",
    "            \"and noteworthy news on {topic}.\\n\"\n",
    "        \"2. Identify the target audience, considering \"\n",
    "            \"their interests and pain points.\\n\"\n",
    "        \"3. Develop a detailed content outline including \"\n",
    "            \"an introduction, key points, and a call to action.\\n\"\n",
    "        \"4. Include SEO keywords and relevant data or sources.\"\n",
    "    ),\n",
    "    expected_output=\"A comprehensive content plan document \"\n",
    "        \"with an outline, audience analysis, \"\n",
    "        \"SEO keywords, and resources.\",\n",
    "    agent=planner,\n",
    ")"
   ]
  },
  {
   "cell_type": "markdown",
   "metadata": {},
   "source": [
    "### Task: Write"
   ]
  },
  {
   "cell_type": "code",
   "execution_count": 8,
   "metadata": {
    "height": 334
   },
   "outputs": [],
   "source": [
    "write = Task(\n",
    "    description=(\n",
    "        \"1. Use the content plan to craft a compelling \"\n",
    "            \"blog post on {topic}.\\n\"\n",
    "        \"2. Incorporate SEO keywords naturally.\\n\"\n",
    "\t\t\"3. Sections/Subtitles are properly named \"\n",
    "            \"in an engaging manner.\\n\"\n",
    "        \"4. Ensure the post is structured with an \"\n",
    "            \"engaging introduction, insightful body, \"\n",
    "            \"and a summarizing conclusion.\\n\"\n",
    "        \"5. Proofread for grammatical errors and \"\n",
    "            \"alignment with the brand's voice.\\n\"\n",
    "    ),\n",
    "    expected_output=\"A well-written blog post \"\n",
    "        \"in markdown format, ready for publication, \"\n",
    "        \"each section should have 2 or 3 paragraphs.\",\n",
    "    agent=writer,\n",
    ")"
   ]
  },
  {
   "cell_type": "markdown",
   "metadata": {},
   "source": [
    "### Task: Edit"
   ]
  },
  {
   "cell_type": "code",
   "execution_count": 9,
   "metadata": {
    "height": 181
   },
   "outputs": [],
   "source": [
    "edit = Task(\n",
    "    description=(\"Proofread the given blog post for \"\n",
    "                 \"grammatical errors and \"\n",
    "                 \"alignment with the brand's voice.\"),\n",
    "    expected_output=\"A well-written blog post in markdown format, \"\n",
    "                    \"ready for publication, \"\n",
    "                    \"each section should have 2 or 3 paragraphs.\",\n",
    "    agent=editor\n",
    ")"
   ]
  },
  {
   "cell_type": "markdown",
   "metadata": {},
   "source": [
    "## Creating the Crew\n",
    "\n",
    "- Create your crew of Agents\n",
    "- Pass the tasks to be performed by those agents.\n",
    "    - **Note**: *For this simple example*, the tasks will be performed sequentially (i.e they are dependent on each other), so the _order_ of the task in the list _matters_.\n",
    "- `verbose=2` allows you to see all the logs of the execution. "
   ]
  },
  {
   "cell_type": "code",
   "execution_count": 10,
   "metadata": {
    "height": 98
   },
   "outputs": [],
   "source": [
    "crew = Crew(\n",
    "    agents=[planner, writer, editor],\n",
    "    tasks=[plan, write, edit],\n",
    "    verbose=2\n",
    ")"
   ]
  },
  {
   "cell_type": "markdown",
   "metadata": {},
   "source": [
    "## Running the Crew"
   ]
  },
  {
   "cell_type": "markdown",
   "metadata": {},
   "source": [
    "**Note**: LLMs can provide different outputs for they same input, so what you get might be different than what you see in the video."
   ]
  },
  {
   "cell_type": "code",
   "execution_count": 11,
   "metadata": {
    "height": 45
   },
   "outputs": [
    {
     "name": "stdout",
     "output_type": "stream",
     "text": [
      "\u001b[1m\u001b[95m [DEBUG]: == Working Agent: Content Planner\u001b[00m\n",
      "\u001b[1m\u001b[95m [INFO]: == Starting Task: 1. Prioritize the latest trends, key players, and noteworthy news on Artificial Intelligence.\n",
      "2. Identify the target audience, considering their interests and pain points.\n",
      "3. Develop a detailed content outline including an introduction, key points, and a call to action.\n",
      "4. Include SEO keywords and relevant data or sources.\u001b[00m\n",
      "\n",
      "\n",
      "\u001b[1m> Entering new CrewAgentExecutor chain...\u001b[0m\n",
      "\u001b[32;1m\u001b[1;3mI now can give a great answer\n",
      "\n",
      "Final Answer:\n",
      "Title: The Future of Artificial Intelligence: Latest Trends, Key Players, and What You Need to Know\n",
      "\n",
      "Introduction:\n",
      "- Brief overview of Artificial Intelligence (AI) and its impact on various industries\n",
      "- Mention of the rapid advancements and innovations in AI technology\n",
      "- Preview of key trends, players, and news in the AI space\n",
      "\n",
      "Key Points:\n",
      "1. Latest Trends in Artificial Intelligence:\n",
      "- Deep learning and neural networks\n",
      "- Natural language processing and conversational AI\n",
      "- AI in healthcare, finance, and autonomous vehicles\n",
      "- Ethical considerations in AI development\n",
      "\n",
      "2. Key Players in the AI Industry:\n",
      "- Google, Microsoft, Amazon, and other tech giants\n",
      "- Startups and research institutions leading AI innovation\n",
      "- Collaboration between academia and industry in AI research\n",
      "- Impact of AI on job market and workforce\n",
      "\n",
      "3. Noteworthy News in Artificial Intelligence:\n",
      "- Recent breakthroughs in AI research\n",
      "- Applications of AI in solving complex problems\n",
      "- Regulatory developments in AI governance\n",
      "- Public perception and awareness of AI technology\n",
      "\n",
      "Audience Analysis:\n",
      "- Target audience includes tech enthusiasts, industry professionals, and individuals interested in the future of technology\n",
      "- Audience may have varying levels of knowledge about AI, from beginners to experts\n",
      "- Pain points include concerns about job displacement, ethical implications of AI, and understanding complex AI concepts\n",
      "\n",
      "SEO Keywords:\n",
      "- Artificial Intelligence trends\n",
      "- Key players in AI\n",
      "- Latest news on Artificial Intelligence\n",
      "- Future of AI technology\n",
      "- AI innovations and applications\n",
      "\n",
      "Call to Action:\n",
      "- Encourage readers to stay informed about AI developments by following reputable news sources and research institutions\n",
      "- Prompt readers to explore online courses and resources to deepen their understanding of AI technology\n",
      "- Invite audience to share their thoughts and opinions on AI in the comments section or on social media platforms\n",
      "\n",
      "Resources:\n",
      "- Forbes: \"Top AI Trends to Watch in 2021\"\n",
      "- MIT Technology Review: \"The State of AI in 2021\"\n",
      "- Stanford University AI Lab: Research papers and publications on AI advancements\n",
      "- Coursera: Online courses on Artificial Intelligence and Machine Learning\n",
      "\n",
      "By following this comprehensive content plan, the blog article on Artificial Intelligence will provide valuable insights and information to the target audience, helping them make informed decisions and stay updated on the latest trends in AI technology.\u001b[0m\n",
      "\n",
      "\u001b[1m> Finished chain.\u001b[0m\n",
      "\u001b[1m\u001b[92m [DEBUG]: == [Content Planner] Task output: Title: The Future of Artificial Intelligence: Latest Trends, Key Players, and What You Need to Know\n",
      "\n",
      "Introduction:\n",
      "- Brief overview of Artificial Intelligence (AI) and its impact on various industries\n",
      "- Mention of the rapid advancements and innovations in AI technology\n",
      "- Preview of key trends, players, and news in the AI space\n",
      "\n",
      "Key Points:\n",
      "1. Latest Trends in Artificial Intelligence:\n",
      "- Deep learning and neural networks\n",
      "- Natural language processing and conversational AI\n",
      "- AI in healthcare, finance, and autonomous vehicles\n",
      "- Ethical considerations in AI development\n",
      "\n",
      "2. Key Players in the AI Industry:\n",
      "- Google, Microsoft, Amazon, and other tech giants\n",
      "- Startups and research institutions leading AI innovation\n",
      "- Collaboration between academia and industry in AI research\n",
      "- Impact of AI on job market and workforce\n",
      "\n",
      "3. Noteworthy News in Artificial Intelligence:\n",
      "- Recent breakthroughs in AI research\n",
      "- Applications of AI in solving complex problems\n",
      "- Regulatory developments in AI governance\n",
      "- Public perception and awareness of AI technology\n",
      "\n",
      "Audience Analysis:\n",
      "- Target audience includes tech enthusiasts, industry professionals, and individuals interested in the future of technology\n",
      "- Audience may have varying levels of knowledge about AI, from beginners to experts\n",
      "- Pain points include concerns about job displacement, ethical implications of AI, and understanding complex AI concepts\n",
      "\n",
      "SEO Keywords:\n",
      "- Artificial Intelligence trends\n",
      "- Key players in AI\n",
      "- Latest news on Artificial Intelligence\n",
      "- Future of AI technology\n",
      "- AI innovations and applications\n",
      "\n",
      "Call to Action:\n",
      "- Encourage readers to stay informed about AI developments by following reputable news sources and research institutions\n",
      "- Prompt readers to explore online courses and resources to deepen their understanding of AI technology\n",
      "- Invite audience to share their thoughts and opinions on AI in the comments section or on social media platforms\n",
      "\n",
      "Resources:\n",
      "- Forbes: \"Top AI Trends to Watch in 2021\"\n",
      "- MIT Technology Review: \"The State of AI in 2021\"\n",
      "- Stanford University AI Lab: Research papers and publications on AI advancements\n",
      "- Coursera: Online courses on Artificial Intelligence and Machine Learning\n",
      "\n",
      "By following this comprehensive content plan, the blog article on Artificial Intelligence will provide valuable insights and information to the target audience, helping them make informed decisions and stay updated on the latest trends in AI technology.\n",
      "\n",
      "\u001b[00m\n",
      "\u001b[1m\u001b[95m [DEBUG]: == Working Agent: Content Writer\u001b[00m\n",
      "\u001b[1m\u001b[95m [INFO]: == Starting Task: 1. Use the content plan to craft a compelling blog post on Artificial Intelligence.\n",
      "2. Incorporate SEO keywords naturally.\n",
      "3. Sections/Subtitles are properly named in an engaging manner.\n",
      "4. Ensure the post is structured with an engaging introduction, insightful body, and a summarizing conclusion.\n",
      "5. Proofread for grammatical errors and alignment with the brand's voice.\n",
      "\u001b[00m\n",
      "\n",
      "\n",
      "\u001b[1m> Entering new CrewAgentExecutor chain...\u001b[0m\n",
      "\u001b[32;1m\u001b[1;3mI now can give a great answer\n",
      "\n",
      "Final Answer:\n",
      "# The Future of Artificial Intelligence: Latest Trends, Key Players, and What You Need to Know\n",
      "\n",
      "**Introduction:**\n",
      "Artificial Intelligence (AI) has revolutionized various industries with its impact on automation, data analysis, and decision-making processes. The rapid advancements in AI technology have led to increased efficiency, improved accuracy, and innovative solutions across different sectors. In this blog post, we will explore the latest trends, key players, and noteworthy news in the AI space, providing valuable insights for tech enthusiasts, industry professionals, and individuals interested in the future of technology.\n",
      "\n",
      "**Latest Trends in Artificial Intelligence:**\n",
      "Deep learning and neural networks have been at the forefront of AI innovation, enabling machines to learn from data and make complex decisions. Natural language processing and conversational AI have also seen significant progress, with applications in virtual assistants, chatbots, and language translation services. AI is making waves in healthcare, finance, and autonomous vehicles, transforming the way we approach medical diagnosis, financial analysis, and transportation systems. Ethical considerations in AI development, such as bias in algorithms and data privacy, are crucial topics that need to be addressed as AI continues to evolve.\n",
      "\n",
      "**Key Players in the AI Industry:**\n",
      "Tech giants like Google, Microsoft, Amazon, and others are leading the way in AI research and development, investing heavily in AI technologies and applications. Startups and research institutions are also playing a vital role in driving AI innovation, with collaborations between academia and industry fostering groundbreaking discoveries. The impact of AI on the job market and workforce is a significant concern, as automation and AI technologies reshape traditional roles and create new opportunities for skilled workers.\n",
      "\n",
      "**Noteworthy News in Artificial Intelligence:**\n",
      "Recent breakthroughs in AI research, such as advancements in computer vision, reinforcement learning, and generative models, are pushing the boundaries of what AI can achieve. Applications of AI in solving complex problems, from climate change to cybersecurity, are demonstrating the potential of AI to address global challenges. Regulatory developments in AI governance, including guidelines for responsible AI use and accountability mechanisms, are shaping the future of AI policy and ethics. Public perception and awareness of AI technology are also evolving, with discussions on the benefits and risks of AI becoming more widespread.\n",
      "\n",
      "**Call to Action:**\n",
      "Stay informed about AI developments by following reputable news sources and research institutions to deepen your understanding of AI technology. Explore online courses and resources to enhance your knowledge of AI and machine learning, and share your thoughts and opinions on AI in the comments section or on social media platforms to engage in meaningful discussions about the future of AI.\n",
      "\n",
      "In conclusion, Artificial Intelligence is a dynamic and transformative field with endless possibilities for innovation and growth. By staying informed and actively participating in the AI community, we can help shape the future of technology and harness the power of AI for the benefit of society.\u001b[0m\n",
      "\n",
      "\u001b[1m> Finished chain.\u001b[0m\n",
      "\u001b[1m\u001b[92m [DEBUG]: == [Content Writer] Task output: # The Future of Artificial Intelligence: Latest Trends, Key Players, and What You Need to Know\n",
      "\n",
      "**Introduction:**\n",
      "Artificial Intelligence (AI) has revolutionized various industries with its impact on automation, data analysis, and decision-making processes. The rapid advancements in AI technology have led to increased efficiency, improved accuracy, and innovative solutions across different sectors. In this blog post, we will explore the latest trends, key players, and noteworthy news in the AI space, providing valuable insights for tech enthusiasts, industry professionals, and individuals interested in the future of technology.\n",
      "\n",
      "**Latest Trends in Artificial Intelligence:**\n",
      "Deep learning and neural networks have been at the forefront of AI innovation, enabling machines to learn from data and make complex decisions. Natural language processing and conversational AI have also seen significant progress, with applications in virtual assistants, chatbots, and language translation services. AI is making waves in healthcare, finance, and autonomous vehicles, transforming the way we approach medical diagnosis, financial analysis, and transportation systems. Ethical considerations in AI development, such as bias in algorithms and data privacy, are crucial topics that need to be addressed as AI continues to evolve.\n",
      "\n",
      "**Key Players in the AI Industry:**\n",
      "Tech giants like Google, Microsoft, Amazon, and others are leading the way in AI research and development, investing heavily in AI technologies and applications. Startups and research institutions are also playing a vital role in driving AI innovation, with collaborations between academia and industry fostering groundbreaking discoveries. The impact of AI on the job market and workforce is a significant concern, as automation and AI technologies reshape traditional roles and create new opportunities for skilled workers.\n",
      "\n",
      "**Noteworthy News in Artificial Intelligence:**\n",
      "Recent breakthroughs in AI research, such as advancements in computer vision, reinforcement learning, and generative models, are pushing the boundaries of what AI can achieve. Applications of AI in solving complex problems, from climate change to cybersecurity, are demonstrating the potential of AI to address global challenges. Regulatory developments in AI governance, including guidelines for responsible AI use and accountability mechanisms, are shaping the future of AI policy and ethics. Public perception and awareness of AI technology are also evolving, with discussions on the benefits and risks of AI becoming more widespread.\n",
      "\n",
      "**Call to Action:**\n",
      "Stay informed about AI developments by following reputable news sources and research institutions to deepen your understanding of AI technology. Explore online courses and resources to enhance your knowledge of AI and machine learning, and share your thoughts and opinions on AI in the comments section or on social media platforms to engage in meaningful discussions about the future of AI.\n",
      "\n",
      "In conclusion, Artificial Intelligence is a dynamic and transformative field with endless possibilities for innovation and growth. By staying informed and actively participating in the AI community, we can help shape the future of technology and harness the power of AI for the benefit of society.\n",
      "\n",
      "\u001b[00m\n",
      "\u001b[1m\u001b[95m [DEBUG]: == Working Agent: Editor\u001b[00m\n",
      "\u001b[1m\u001b[95m [INFO]: == Starting Task: Proofread the given blog post for grammatical errors and alignment with the brand's voice.\u001b[00m\n",
      "\n",
      "\n",
      "\u001b[1m> Entering new CrewAgentExecutor chain...\u001b[0m\n"
     ]
    },
    {
     "name": "stdout",
     "output_type": "stream",
     "text": [
      "\u001b[32;1m\u001b[1;3mI now can give a great answer\n",
      "\n",
      "Final Answer:\n",
      "# The Future of Artificial Intelligence: Latest Trends, Key Players, and What You Need to Know\n",
      "\n",
      "**Introduction:**\n",
      "Artificial Intelligence (AI) has revolutionized various industries with its impact on automation, data analysis, and decision-making processes. The rapid advancements in AI technology have led to increased efficiency, improved accuracy, and innovative solutions across different sectors. In this blog post, we will explore the latest trends, key players, and noteworthy news in the AI space, providing valuable insights for tech enthusiasts, industry professionals, and individuals interested in the future of technology.\n",
      "\n",
      "**Latest Trends in Artificial Intelligence:**\n",
      "Deep learning and neural networks have been at the forefront of AI innovation, enabling machines to learn from data and make complex decisions. Natural language processing and conversational AI have also seen significant progress, with applications in virtual assistants, chatbots, and language translation services. AI is making waves in healthcare, finance, and autonomous vehicles, transforming the way we approach medical diagnosis, financial analysis, and transportation systems. Ethical considerations in AI development, such as bias in algorithms and data privacy, are crucial topics that need to be addressed as AI continues to evolve.\n",
      "\n",
      "**Key Players in the AI Industry:**\n",
      "Tech giants like Google, Microsoft, Amazon, and others are leading the way in AI research and development, investing heavily in AI technologies and applications. Startups and research institutions are also playing a vital role in driving AI innovation, with collaborations between academia and industry fostering groundbreaking discoveries. The impact of AI on the job market and workforce is a significant concern, as automation and AI technologies reshape traditional roles and create new opportunities for skilled workers.\n",
      "\n",
      "**Noteworthy News in Artificial Intelligence:**\n",
      "Recent breakthroughs in AI research, such as advancements in computer vision, reinforcement learning, and generative models, are pushing the boundaries of what AI can achieve. Applications of AI in solving complex problems, from climate change to cybersecurity, are demonstrating the potential of AI to address global challenges. Regulatory developments in AI governance, including guidelines for responsible AI use and accountability mechanisms, are shaping the future of AI policy and ethics. Public perception and awareness of AI technology are also evolving, with discussions on the benefits and risks of AI becoming more widespread.\n",
      "\n",
      "**Call to Action:**\n",
      "Stay informed about AI developments by following reputable news sources and research institutions to deepen your understanding of AI technology. Explore online courses and resources to enhance your knowledge of AI and machine learning, and share your thoughts and opinions on AI in the comments section or on social media platforms to engage in meaningful discussions about the future of AI.\n",
      "\n",
      "In conclusion, Artificial Intelligence is a dynamic and transformative field with endless possibilities for innovation and growth. By staying informed and actively participating in the AI community, we can help shape the future of technology and harness the power of AI for the benefit of society.\u001b[0m\n",
      "\n",
      "\u001b[1m> Finished chain.\u001b[0m\n",
      "\u001b[1m\u001b[92m [DEBUG]: == [Editor] Task output: # The Future of Artificial Intelligence: Latest Trends, Key Players, and What You Need to Know\n",
      "\n",
      "**Introduction:**\n",
      "Artificial Intelligence (AI) has revolutionized various industries with its impact on automation, data analysis, and decision-making processes. The rapid advancements in AI technology have led to increased efficiency, improved accuracy, and innovative solutions across different sectors. In this blog post, we will explore the latest trends, key players, and noteworthy news in the AI space, providing valuable insights for tech enthusiasts, industry professionals, and individuals interested in the future of technology.\n",
      "\n",
      "**Latest Trends in Artificial Intelligence:**\n",
      "Deep learning and neural networks have been at the forefront of AI innovation, enabling machines to learn from data and make complex decisions. Natural language processing and conversational AI have also seen significant progress, with applications in virtual assistants, chatbots, and language translation services. AI is making waves in healthcare, finance, and autonomous vehicles, transforming the way we approach medical diagnosis, financial analysis, and transportation systems. Ethical considerations in AI development, such as bias in algorithms and data privacy, are crucial topics that need to be addressed as AI continues to evolve.\n",
      "\n",
      "**Key Players in the AI Industry:**\n",
      "Tech giants like Google, Microsoft, Amazon, and others are leading the way in AI research and development, investing heavily in AI technologies and applications. Startups and research institutions are also playing a vital role in driving AI innovation, with collaborations between academia and industry fostering groundbreaking discoveries. The impact of AI on the job market and workforce is a significant concern, as automation and AI technologies reshape traditional roles and create new opportunities for skilled workers.\n",
      "\n",
      "**Noteworthy News in Artificial Intelligence:**\n",
      "Recent breakthroughs in AI research, such as advancements in computer vision, reinforcement learning, and generative models, are pushing the boundaries of what AI can achieve. Applications of AI in solving complex problems, from climate change to cybersecurity, are demonstrating the potential of AI to address global challenges. Regulatory developments in AI governance, including guidelines for responsible AI use and accountability mechanisms, are shaping the future of AI policy and ethics. Public perception and awareness of AI technology are also evolving, with discussions on the benefits and risks of AI becoming more widespread.\n",
      "\n",
      "**Call to Action:**\n",
      "Stay informed about AI developments by following reputable news sources and research institutions to deepen your understanding of AI technology. Explore online courses and resources to enhance your knowledge of AI and machine learning, and share your thoughts and opinions on AI in the comments section or on social media platforms to engage in meaningful discussions about the future of AI.\n",
      "\n",
      "In conclusion, Artificial Intelligence is a dynamic and transformative field with endless possibilities for innovation and growth. By staying informed and actively participating in the AI community, we can help shape the future of technology and harness the power of AI for the benefit of society.\n",
      "\n",
      "\u001b[00m\n"
     ]
    }
   ],
   "source": [
    "result = crew.kickoff(inputs={\"topic\": \"Artificial Intelligence\"})"
   ]
  },
  {
   "cell_type": "markdown",
   "metadata": {},
   "source": [
    "- Display the results of your execution as markdown in the notebook."
   ]
  },
  {
   "cell_type": "code",
   "execution_count": 12,
   "metadata": {
    "height": 47
   },
   "outputs": [
    {
     "data": {
      "text/markdown": [
       "# The Future of Artificial Intelligence: Latest Trends, Key Players, and What You Need to Know\n",
       "\n",
       "**Introduction:**\n",
       "Artificial Intelligence (AI) has revolutionized various industries with its impact on automation, data analysis, and decision-making processes. The rapid advancements in AI technology have led to increased efficiency, improved accuracy, and innovative solutions across different sectors. In this blog post, we will explore the latest trends, key players, and noteworthy news in the AI space, providing valuable insights for tech enthusiasts, industry professionals, and individuals interested in the future of technology.\n",
       "\n",
       "**Latest Trends in Artificial Intelligence:**\n",
       "Deep learning and neural networks have been at the forefront of AI innovation, enabling machines to learn from data and make complex decisions. Natural language processing and conversational AI have also seen significant progress, with applications in virtual assistants, chatbots, and language translation services. AI is making waves in healthcare, finance, and autonomous vehicles, transforming the way we approach medical diagnosis, financial analysis, and transportation systems. Ethical considerations in AI development, such as bias in algorithms and data privacy, are crucial topics that need to be addressed as AI continues to evolve.\n",
       "\n",
       "**Key Players in the AI Industry:**\n",
       "Tech giants like Google, Microsoft, Amazon, and others are leading the way in AI research and development, investing heavily in AI technologies and applications. Startups and research institutions are also playing a vital role in driving AI innovation, with collaborations between academia and industry fostering groundbreaking discoveries. The impact of AI on the job market and workforce is a significant concern, as automation and AI technologies reshape traditional roles and create new opportunities for skilled workers.\n",
       "\n",
       "**Noteworthy News in Artificial Intelligence:**\n",
       "Recent breakthroughs in AI research, such as advancements in computer vision, reinforcement learning, and generative models, are pushing the boundaries of what AI can achieve. Applications of AI in solving complex problems, from climate change to cybersecurity, are demonstrating the potential of AI to address global challenges. Regulatory developments in AI governance, including guidelines for responsible AI use and accountability mechanisms, are shaping the future of AI policy and ethics. Public perception and awareness of AI technology are also evolving, with discussions on the benefits and risks of AI becoming more widespread.\n",
       "\n",
       "**Call to Action:**\n",
       "Stay informed about AI developments by following reputable news sources and research institutions to deepen your understanding of AI technology. Explore online courses and resources to enhance your knowledge of AI and machine learning, and share your thoughts and opinions on AI in the comments section or on social media platforms to engage in meaningful discussions about the future of AI.\n",
       "\n",
       "In conclusion, Artificial Intelligence is a dynamic and transformative field with endless possibilities for innovation and growth. By staying informed and actively participating in the AI community, we can help shape the future of technology and harness the power of AI for the benefit of society."
      ],
      "text/plain": [
       "<IPython.core.display.Markdown object>"
      ]
     },
     "execution_count": 12,
     "metadata": {},
     "output_type": "execute_result"
    }
   ],
   "source": [
    "from IPython.display import Markdown\n",
    "Markdown(result)"
   ]
  },
  {
   "cell_type": "markdown",
   "metadata": {},
   "source": [
    "## Try it Yourself\n",
    "\n",
    "- Pass in a topic of your choice and see what the agents come up with!"
   ]
  },
  {
   "cell_type": "code",
   "execution_count": 13,
   "metadata": {
    "height": 62
   },
   "outputs": [
    {
     "name": "stdout",
     "output_type": "stream",
     "text": [
      "\u001b[1m\u001b[95m [DEBUG]: == Working Agent: Content Planner\u001b[00m\n",
      "\u001b[1m\u001b[95m [INFO]: == Starting Task: 1. Prioritize the latest trends, key players, and noteworthy news on YOUR TOPIC HERE.\n",
      "2. Identify the target audience, considering their interests and pain points.\n",
      "3. Develop a detailed content outline including an introduction, key points, and a call to action.\n",
      "4. Include SEO keywords and relevant data or sources.\u001b[00m\n",
      "\n",
      "\n",
      "\u001b[1m> Entering new CrewAgentExecutor chain...\u001b[0m\n",
      "\u001b[32;1m\u001b[1;3mI now can give a great answer\n",
      "\n",
      "Final Answer: \n",
      "\n",
      "Content Plan for Blog Article on \"YOUR TOPIC HERE\"\n",
      "\n",
      "1. Latest Trends, Key Players, and Noteworthy News:\n",
      "- Latest Trends: Discuss the emergence of new technologies in YOUR TOPIC HERE industry and how they are shaping the future.\n",
      "- Key Players: Highlight the top companies leading the way in YOUR TOPIC HERE and their innovative approaches.\n",
      "- Noteworthy News: Include recent developments, partnerships, or achievements within the YOUR TOPIC HERE sector.\n",
      "\n",
      "2. Target Audience Analysis:\n",
      "- Target Audience: Professionals working in the YOUR TOPIC HERE industry looking to stay updated on the latest trends and advancements.\n",
      "- Interests: Interest in learning about new technologies, market insights, and best practices within the YOUR TOPIC HERE field.\n",
      "- Pain Points: Challenges faced by professionals in implementing new technologies, staying competitive, and navigating market changes.\n",
      "\n",
      "3. Detailed Content Outline:\n",
      "- Introduction: Brief overview of the YOUR TOPIC HERE industry and the importance of staying informed about the latest trends.\n",
      "- Key Points:\n",
      "   1. Overview of current market trends in YOUR TOPIC HERE.\n",
      "   2. Analysis of key players and their impact on the industry.\n",
      "   3. Noteworthy news and recent developments shaping the YOUR TOPIC HERE sector.\n",
      "   4. Discussion on the future outlook and potential opportunities within the industry.\n",
      "- Call to Action: Encourage readers to subscribe for regular updates on YOUR TOPIC HERE trends and to engage in discussions with industry experts.\n",
      "\n",
      "4. SEO Keywords and Relevant Data:\n",
      "- SEO Keywords: YOUR TOPIC HERE trends, latest developments in YOUR TOPIC HERE, key players in YOUR TOPIC HERE industry.\n",
      "- Relevant Data: Include statistics, case studies, and expert opinions to support key points and provide valuable insights to the audience.\n",
      "\n",
      "Resources:\n",
      "- Industry reports, market analysis articles, press releases from key players in the YOUR TOPIC HERE industry.\n",
      "- Interviews with industry experts, thought leaders, and professionals working in the YOUR TOPIC HERE sector.\n",
      "- Statistical data from reputable sources, such as research institutions or government agencies.\n",
      "\n",
      "By following this comprehensive content plan, the blog article on \"YOUR TOPIC HERE\" will provide valuable insights to the target audience and establish credibility as a go-to resource for industry updates and analysis.\u001b[0m\n",
      "\n",
      "\u001b[1m> Finished chain.\u001b[0m\n",
      "\u001b[1m\u001b[92m [DEBUG]: == [Content Planner] Task output: Content Plan for Blog Article on \"YOUR TOPIC HERE\"\n",
      "\n",
      "1. Latest Trends, Key Players, and Noteworthy News:\n",
      "- Latest Trends: Discuss the emergence of new technologies in YOUR TOPIC HERE industry and how they are shaping the future.\n",
      "- Key Players: Highlight the top companies leading the way in YOUR TOPIC HERE and their innovative approaches.\n",
      "- Noteworthy News: Include recent developments, partnerships, or achievements within the YOUR TOPIC HERE sector.\n",
      "\n",
      "2. Target Audience Analysis:\n",
      "- Target Audience: Professionals working in the YOUR TOPIC HERE industry looking to stay updated on the latest trends and advancements.\n",
      "- Interests: Interest in learning about new technologies, market insights, and best practices within the YOUR TOPIC HERE field.\n",
      "- Pain Points: Challenges faced by professionals in implementing new technologies, staying competitive, and navigating market changes.\n",
      "\n",
      "3. Detailed Content Outline:\n",
      "- Introduction: Brief overview of the YOUR TOPIC HERE industry and the importance of staying informed about the latest trends.\n",
      "- Key Points:\n",
      "   1. Overview of current market trends in YOUR TOPIC HERE.\n",
      "   2. Analysis of key players and their impact on the industry.\n",
      "   3. Noteworthy news and recent developments shaping the YOUR TOPIC HERE sector.\n",
      "   4. Discussion on the future outlook and potential opportunities within the industry.\n",
      "- Call to Action: Encourage readers to subscribe for regular updates on YOUR TOPIC HERE trends and to engage in discussions with industry experts.\n",
      "\n",
      "4. SEO Keywords and Relevant Data:\n",
      "- SEO Keywords: YOUR TOPIC HERE trends, latest developments in YOUR TOPIC HERE, key players in YOUR TOPIC HERE industry.\n",
      "- Relevant Data: Include statistics, case studies, and expert opinions to support key points and provide valuable insights to the audience.\n",
      "\n",
      "Resources:\n",
      "- Industry reports, market analysis articles, press releases from key players in the YOUR TOPIC HERE industry.\n",
      "- Interviews with industry experts, thought leaders, and professionals working in the YOUR TOPIC HERE sector.\n",
      "- Statistical data from reputable sources, such as research institutions or government agencies.\n",
      "\n",
      "By following this comprehensive content plan, the blog article on \"YOUR TOPIC HERE\" will provide valuable insights to the target audience and establish credibility as a go-to resource for industry updates and analysis.\n",
      "\n",
      "\u001b[00m\n",
      "\u001b[1m\u001b[95m [DEBUG]: == Working Agent: Content Writer\u001b[00m\n",
      "\u001b[1m\u001b[95m [INFO]: == Starting Task: 1. Use the content plan to craft a compelling blog post on YOUR TOPIC HERE.\n",
      "2. Incorporate SEO keywords naturally.\n",
      "3. Sections/Subtitles are properly named in an engaging manner.\n",
      "4. Ensure the post is structured with an engaging introduction, insightful body, and a summarizing conclusion.\n",
      "5. Proofread for grammatical errors and alignment with the brand's voice.\n",
      "\u001b[00m\n",
      "\n",
      "\n",
      "\u001b[1m> Entering new CrewAgentExecutor chain...\u001b[0m\n",
      "\u001b[32;1m\u001b[1;3mI am confident that I can create an engaging and informative blog post on the topic of \"YOUR TOPIC HERE\" by following the detailed content outline and incorporating relevant SEO keywords naturally. By focusing on the latest trends, key players, and noteworthy news in the industry, I can provide valuable insights to professionals looking to stay updated on advancements in the field.\n",
      "\n",
      "Final Answer:\n",
      "\n",
      "# Embracing Innovation: Exploring the Latest Trends in YOUR TOPIC HERE\n",
      "\n",
      "In today's rapidly evolving landscape, the YOUR TOPIC HERE industry is experiencing a wave of new technologies that are reshaping the future. From cutting-edge innovations to disruptive solutions, the industry is witnessing a shift towards more efficient and sustainable practices. Companies are embracing these trends to stay ahead of the curve and meet the growing demands of consumers.\n",
      "\n",
      "Leading the charge are top players in the YOUR TOPIC HERE sector, who are driving innovation and setting new standards for excellence. Their forward-thinking approaches and strategic partnerships are paving the way for a more dynamic and competitive industry. By highlighting their achievements and groundbreaking initiatives, we can gain valuable insights into the future direction of the YOUR TOPIC HERE landscape.\n",
      "\n",
      "Recent developments and partnerships within the YOUR TOPIC HERE sector have also been a key focus, showcasing the industry's resilience and adaptability in the face of challenges. These collaborations and advancements are not only shaping the present but also laying the foundation for future growth and expansion. By staying informed about these noteworthy news, professionals can better navigate market changes and capitalize on emerging opportunities.\n",
      "\n",
      "# Navigating the Landscape: Opportunities and Future Outlook in YOUR TOPIC HERE\n",
      "\n",
      "As we look towards the future, the YOUR TOPIC HERE industry holds immense potential for growth and innovation. By analyzing current market trends and the strategies of key players, we can uncover valuable insights into the opportunities that lie ahead. From market insights to best practices, professionals can gain a competitive edge by staying informed and proactive in their approach.\n",
      "\n",
      "In conclusion, the YOUR TOPIC HERE industry is on the cusp of a new era, driven by innovation, collaboration, and forward-thinking strategies. By keeping abreast of the latest trends and developments, professionals can position themselves for success and lead the way towards a brighter future. Subscribe for regular updates on YOUR TOPIC HERE trends and join the conversation with industry experts to stay ahead of the curve.\u001b[0m\n",
      "\n",
      "\u001b[1m> Finished chain.\u001b[0m\n",
      "\u001b[1m\u001b[92m [DEBUG]: == [Content Writer] Task output: # Embracing Innovation: Exploring the Latest Trends in YOUR TOPIC HERE\n",
      "\n",
      "In today's rapidly evolving landscape, the YOUR TOPIC HERE industry is experiencing a wave of new technologies that are reshaping the future. From cutting-edge innovations to disruptive solutions, the industry is witnessing a shift towards more efficient and sustainable practices. Companies are embracing these trends to stay ahead of the curve and meet the growing demands of consumers.\n",
      "\n",
      "Leading the charge are top players in the YOUR TOPIC HERE sector, who are driving innovation and setting new standards for excellence. Their forward-thinking approaches and strategic partnerships are paving the way for a more dynamic and competitive industry. By highlighting their achievements and groundbreaking initiatives, we can gain valuable insights into the future direction of the YOUR TOPIC HERE landscape.\n",
      "\n",
      "Recent developments and partnerships within the YOUR TOPIC HERE sector have also been a key focus, showcasing the industry's resilience and adaptability in the face of challenges. These collaborations and advancements are not only shaping the present but also laying the foundation for future growth and expansion. By staying informed about these noteworthy news, professionals can better navigate market changes and capitalize on emerging opportunities.\n",
      "\n",
      "# Navigating the Landscape: Opportunities and Future Outlook in YOUR TOPIC HERE\n",
      "\n",
      "As we look towards the future, the YOUR TOPIC HERE industry holds immense potential for growth and innovation. By analyzing current market trends and the strategies of key players, we can uncover valuable insights into the opportunities that lie ahead. From market insights to best practices, professionals can gain a competitive edge by staying informed and proactive in their approach.\n",
      "\n",
      "In conclusion, the YOUR TOPIC HERE industry is on the cusp of a new era, driven by innovation, collaboration, and forward-thinking strategies. By keeping abreast of the latest trends and developments, professionals can position themselves for success and lead the way towards a brighter future. Subscribe for regular updates on YOUR TOPIC HERE trends and join the conversation with industry experts to stay ahead of the curve.\n",
      "\n",
      "\u001b[00m\n",
      "\u001b[1m\u001b[95m [DEBUG]: == Working Agent: Editor\u001b[00m\n",
      "\u001b[1m\u001b[95m [INFO]: == Starting Task: Proofread the given blog post for grammatical errors and alignment with the brand's voice.\u001b[00m\n",
      "\n",
      "\n",
      "\u001b[1m> Entering new CrewAgentExecutor chain...\u001b[0m\n"
     ]
    },
    {
     "name": "stdout",
     "output_type": "stream",
     "text": [
      "\u001b[32;1m\u001b[1;3mI now can give a great answer\n",
      "\n",
      "Final Answer:\n",
      "# Embracing Innovation: Exploring the Latest Trends in YOUR TOPIC HERE\n",
      "\n",
      "In today's rapidly evolving landscape, the YOUR TOPIC HERE industry is experiencing a wave of new technologies that are reshaping the future. From cutting-edge innovations to disruptive solutions, the industry is witnessing a shift towards more efficient and sustainable practices. Companies are embracing these trends to stay ahead of the curve and meet the growing demands of consumers.\n",
      "\n",
      "Leading the charge are top players in the YOUR TOPIC HERE sector, who are driving innovation and setting new standards for excellence. Their forward-thinking approaches and strategic partnerships are paving the way for a more dynamic and competitive industry. By highlighting their achievements and groundbreaking initiatives, we can gain valuable insights into the future direction of the YOUR TOPIC HERE landscape.\n",
      "\n",
      "Recent developments and partnerships within the YOUR TOPIC HERE sector have also been a key focus, showcasing the industry's resilience and adaptability in the face of challenges. These collaborations and advancements are not only shaping the present but also laying the foundation for future growth and expansion. By staying informed about these noteworthy news, professionals can better navigate market changes and capitalize on emerging opportunities.\n",
      "\n",
      "# Navigating the Landscape: Opportunities and Future Outlook in YOUR TOPIC HERE\n",
      "\n",
      "As we look towards the future, the YOUR TOPIC HERE industry holds immense potential for growth and innovation. By analyzing current market trends and the strategies of key players, we can uncover valuable insights into the opportunities that lie ahead. From market insights to best practices, professionals can gain a competitive edge by staying informed and proactive in their approach.\n",
      "\n",
      "In conclusion, the YOUR TOPIC HERE industry is on the cusp of a new era, driven by innovation, collaboration, and forward-thinking strategies. By keeping abreast of the latest trends and developments, professionals can position themselves for success and lead the way towards a brighter future. Subscribe for regular updates on YOUR TOPIC HERE trends and join the conversation with industry experts to stay ahead of the curve.\u001b[0m\n",
      "\n",
      "\u001b[1m> Finished chain.\u001b[0m\n",
      "\u001b[1m\u001b[92m [DEBUG]: == [Editor] Task output: # Embracing Innovation: Exploring the Latest Trends in YOUR TOPIC HERE\n",
      "\n",
      "In today's rapidly evolving landscape, the YOUR TOPIC HERE industry is experiencing a wave of new technologies that are reshaping the future. From cutting-edge innovations to disruptive solutions, the industry is witnessing a shift towards more efficient and sustainable practices. Companies are embracing these trends to stay ahead of the curve and meet the growing demands of consumers.\n",
      "\n",
      "Leading the charge are top players in the YOUR TOPIC HERE sector, who are driving innovation and setting new standards for excellence. Their forward-thinking approaches and strategic partnerships are paving the way for a more dynamic and competitive industry. By highlighting their achievements and groundbreaking initiatives, we can gain valuable insights into the future direction of the YOUR TOPIC HERE landscape.\n",
      "\n",
      "Recent developments and partnerships within the YOUR TOPIC HERE sector have also been a key focus, showcasing the industry's resilience and adaptability in the face of challenges. These collaborations and advancements are not only shaping the present but also laying the foundation for future growth and expansion. By staying informed about these noteworthy news, professionals can better navigate market changes and capitalize on emerging opportunities.\n",
      "\n",
      "# Navigating the Landscape: Opportunities and Future Outlook in YOUR TOPIC HERE\n",
      "\n",
      "As we look towards the future, the YOUR TOPIC HERE industry holds immense potential for growth and innovation. By analyzing current market trends and the strategies of key players, we can uncover valuable insights into the opportunities that lie ahead. From market insights to best practices, professionals can gain a competitive edge by staying informed and proactive in their approach.\n",
      "\n",
      "In conclusion, the YOUR TOPIC HERE industry is on the cusp of a new era, driven by innovation, collaboration, and forward-thinking strategies. By keeping abreast of the latest trends and developments, professionals can position themselves for success and lead the way towards a brighter future. Subscribe for regular updates on YOUR TOPIC HERE trends and join the conversation with industry experts to stay ahead of the curve.\n",
      "\n",
      "\u001b[00m\n"
     ]
    }
   ],
   "source": [
    "topic = \"YOUR TOPIC HERE\"\n",
    "result = crew.kickoff(inputs={\"topic\": topic})"
   ]
  },
  {
   "cell_type": "code",
   "execution_count": 14,
   "metadata": {
    "height": 30
   },
   "outputs": [
    {
     "data": {
      "text/markdown": [
       "# Embracing Innovation: Exploring the Latest Trends in YOUR TOPIC HERE\n",
       "\n",
       "In today's rapidly evolving landscape, the YOUR TOPIC HERE industry is experiencing a wave of new technologies that are reshaping the future. From cutting-edge innovations to disruptive solutions, the industry is witnessing a shift towards more efficient and sustainable practices. Companies are embracing these trends to stay ahead of the curve and meet the growing demands of consumers.\n",
       "\n",
       "Leading the charge are top players in the YOUR TOPIC HERE sector, who are driving innovation and setting new standards for excellence. Their forward-thinking approaches and strategic partnerships are paving the way for a more dynamic and competitive industry. By highlighting their achievements and groundbreaking initiatives, we can gain valuable insights into the future direction of the YOUR TOPIC HERE landscape.\n",
       "\n",
       "Recent developments and partnerships within the YOUR TOPIC HERE sector have also been a key focus, showcasing the industry's resilience and adaptability in the face of challenges. These collaborations and advancements are not only shaping the present but also laying the foundation for future growth and expansion. By staying informed about these noteworthy news, professionals can better navigate market changes and capitalize on emerging opportunities.\n",
       "\n",
       "# Navigating the Landscape: Opportunities and Future Outlook in YOUR TOPIC HERE\n",
       "\n",
       "As we look towards the future, the YOUR TOPIC HERE industry holds immense potential for growth and innovation. By analyzing current market trends and the strategies of key players, we can uncover valuable insights into the opportunities that lie ahead. From market insights to best practices, professionals can gain a competitive edge by staying informed and proactive in their approach.\n",
       "\n",
       "In conclusion, the YOUR TOPIC HERE industry is on the cusp of a new era, driven by innovation, collaboration, and forward-thinking strategies. By keeping abreast of the latest trends and developments, professionals can position themselves for success and lead the way towards a brighter future. Subscribe for regular updates on YOUR TOPIC HERE trends and join the conversation with industry experts to stay ahead of the curve."
      ],
      "text/plain": [
       "<IPython.core.display.Markdown object>"
      ]
     },
     "execution_count": 14,
     "metadata": {},
     "output_type": "execute_result"
    }
   ],
   "source": [
    "Markdown(result)"
   ]
  },
  {
   "cell_type": "markdown",
   "metadata": {},
   "source": [
    "<a name='1'></a>\n",
    " ## Other Popular Models as LLM for your Agents"
   ]
  },
  {
   "cell_type": "markdown",
   "metadata": {},
   "source": [
    "#### Hugging Face (HuggingFaceHub endpoint)\n",
    "\n",
    "```Python\n",
    "from langchain_community.llms import HuggingFaceHub\n",
    "\n",
    "llm = HuggingFaceHub(\n",
    "    repo_id=\"HuggingFaceH4/zephyr-7b-beta\",\n",
    "    huggingfacehub_api_token=\"<HF_TOKEN_HERE>\",\n",
    "    task=\"text-generation\",\n",
    ")\n",
    "\n",
    "### you will pass \"llm\" to your agent function\n",
    "```"
   ]
  },
  {
   "cell_type": "markdown",
   "metadata": {},
   "source": [
    "#### Mistral API\n",
    "\n",
    "```Python\n",
    "OPENAI_API_KEY=your-mistral-api-key\n",
    "OPENAI_API_BASE=https://api.mistral.ai/v1\n",
    "OPENAI_MODEL_NAME=\"mistral-small\"\n",
    "```"
   ]
  },
  {
   "cell_type": "markdown",
   "metadata": {},
   "source": [
    "#### Cohere\n",
    "\n",
    "```Python\n",
    "from langchain_community.chat_models import ChatCohere\n",
    "# Initialize language model\n",
    "os.environ[\"COHERE_API_KEY\"] = \"your-cohere-api-key\"\n",
    "llm = ChatCohere()\n",
    "\n",
    "### you will pass \"llm\" to your agent function\n",
    "```"
   ]
  },
  {
   "cell_type": "markdown",
   "metadata": {},
   "source": [
    "### For using Llama locally with Ollama and more, checkout the crewAI documentation on [Connecting to any LLM](https://docs.crewai.com/how-to/LLM-Connections/)."
   ]
  },
  {
   "cell_type": "code",
   "execution_count": null,
   "metadata": {
    "height": 30
   },
   "outputs": [],
   "source": []
  },
  {
   "cell_type": "code",
   "execution_count": null,
   "metadata": {
    "height": 30
   },
   "outputs": [],
   "source": []
  },
  {
   "cell_type": "code",
   "execution_count": null,
   "metadata": {
    "height": 30
   },
   "outputs": [],
   "source": []
  }
 ],
 "metadata": {
  "colab": {
   "gpuType": "T4",
   "provenance": []
  },
  "kernelspec": {
   "display_name": "Python 3 (ipykernel)",
   "language": "python",
   "name": "python3"
  },
  "language_info": {
   "codemirror_mode": {
    "name": "ipython",
    "version": 3
   },
   "file_extension": ".py",
   "mimetype": "text/x-python",
   "name": "python",
   "nbconvert_exporter": "python",
   "pygments_lexer": "ipython3",
   "version": "3.11.9"
  }
 },
 "nbformat": 4,
 "nbformat_minor": 4
}
