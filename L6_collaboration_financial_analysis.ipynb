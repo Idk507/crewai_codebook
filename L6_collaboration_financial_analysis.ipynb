{
 "cells": [
  {
   "cell_type": "markdown",
   "metadata": {},
   "source": [
    "# L6: Multi-agent Collaboration for Financial Analysis\n",
    "\n",
    "In this lesson, you will learn ways for making agents collaborate with each other."
   ]
  },
  {
   "cell_type": "markdown",
   "metadata": {},
   "source": [
    "The libraries are already installed in the classroom. If you're running this notebook on your own machine, you can install the following:\n",
    "```Python\n",
    "!pip install crewai==0.28.8 crewai_tools==0.1.6 langchain_community==0.0.29\n",
    "```"
   ]
  },
  {
   "cell_type": "code",
   "execution_count": 1,
   "metadata": {
    "height": 63
   },
   "outputs": [],
   "source": [
    "# Warning control\n",
    "import warnings\n",
    "warnings.filterwarnings('ignore')"
   ]
  },
  {
   "cell_type": "markdown",
   "metadata": {},
   "source": [
    "- Import libraries, APIs and LLM"
   ]
  },
  {
   "cell_type": "code",
   "execution_count": 2,
   "metadata": {
    "height": 30
   },
   "outputs": [],
   "source": [
    "from crewai import Agent, Task, Crew"
   ]
  },
  {
   "cell_type": "markdown",
   "metadata": {},
   "source": [
    "**Note**: \n",
    "- The video uses `gpt-4-turbo`, but due to certain constraints, and in order to offer this course for free to everyone, the code you'll run here will use `gpt-3.5-turbo`.\n",
    "- You can use `gpt-4-turbo` when you run the notebook _locally_ (using `gpt-4-turbo` will not work on the platform)\n",
    "- Thank you for your understanding!"
   ]
  },
  {
   "cell_type": "code",
   "execution_count": 3,
   "metadata": {
    "height": 130
   },
   "outputs": [],
   "source": [
    "import os\n",
    "from utils import get_openai_api_key, get_serper_api_key\n",
    "\n",
    "openai_api_key = get_openai_api_key()\n",
    "os.environ[\"OPENAI_MODEL_NAME\"] = 'gpt-3.5-turbo'\n",
    "os.environ[\"SERPER_API_KEY\"] = get_serper_api_key()"
   ]
  },
  {
   "cell_type": "markdown",
   "metadata": {},
   "source": [
    "## crewAI Tools"
   ]
  },
  {
   "cell_type": "code",
   "execution_count": 4,
   "metadata": {
    "height": 96
   },
   "outputs": [],
   "source": [
    "from crewai_tools import ScrapeWebsiteTool, SerperDevTool\n",
    "\n",
    "search_tool = SerperDevTool()\n",
    "scrape_tool = ScrapeWebsiteTool()"
   ]
  },
  {
   "cell_type": "markdown",
   "metadata": {},
   "source": [
    "## Creating Agents"
   ]
  },
  {
   "cell_type": "code",
   "execution_count": 5,
   "metadata": {
    "height": 249
   },
   "outputs": [],
   "source": [
    "data_analyst_agent = Agent(\n",
    "    role=\"Data Analyst\",\n",
    "    goal=\"Monitor and analyze market data in real-time \"\n",
    "         \"to identify trends and predict market movements.\",\n",
    "    backstory=\"Specializing in financial markets, this agent \"\n",
    "              \"uses statistical modeling and machine learning \"\n",
    "              \"to provide crucial insights. With a knack for data, \"\n",
    "              \"the Data Analyst Agent is the cornerstone for \"\n",
    "              \"informing trading decisions.\",\n",
    "    verbose=True,\n",
    "    allow_delegation=True,\n",
    "    tools = [scrape_tool, search_tool]\n",
    ")"
   ]
  },
  {
   "cell_type": "code",
   "execution_count": 6,
   "metadata": {
    "height": 249
   },
   "outputs": [],
   "source": [
    "trading_strategy_agent = Agent(\n",
    "    role=\"Trading Strategy Developer\",\n",
    "    goal=\"Develop and test various trading strategies based \"\n",
    "         \"on insights from the Data Analyst Agent.\",\n",
    "    backstory=\"Equipped with a deep understanding of financial \"\n",
    "              \"markets and quantitative analysis, this agent \"\n",
    "              \"devises and refines trading strategies. It evaluates \"\n",
    "              \"the performance of different approaches to determine \"\n",
    "              \"the most profitable and risk-averse options.\",\n",
    "    verbose=True,\n",
    "    allow_delegation=True,\n",
    "    tools = [scrape_tool, search_tool]\n",
    ")"
   ]
  },
  {
   "cell_type": "code",
   "execution_count": 7,
   "metadata": {
    "height": 249
   },
   "outputs": [],
   "source": [
    "execution_agent = Agent(\n",
    "    role=\"Trade Advisor\",\n",
    "    goal=\"Suggest optimal trade execution strategies \"\n",
    "         \"based on approved trading strategies.\",\n",
    "    backstory=\"This agent specializes in analyzing the timing, price, \"\n",
    "              \"and logistical details of potential trades. By evaluating \"\n",
    "              \"these factors, it provides well-founded suggestions for \"\n",
    "              \"when and how trades should be executed to maximize \"\n",
    "              \"efficiency and adherence to strategy.\",\n",
    "    verbose=True,\n",
    "    allow_delegation=True,\n",
    "    tools = [scrape_tool, search_tool]\n",
    ")"
   ]
  },
  {
   "cell_type": "code",
   "execution_count": 8,
   "metadata": {
    "height": 249
   },
   "outputs": [],
   "source": [
    "risk_management_agent = Agent(\n",
    "    role=\"Risk Advisor\",\n",
    "    goal=\"Evaluate and provide insights on the risks \"\n",
    "         \"associated with potential trading activities.\",\n",
    "    backstory=\"Armed with a deep understanding of risk assessment models \"\n",
    "              \"and market dynamics, this agent scrutinizes the potential \"\n",
    "              \"risks of proposed trades. It offers a detailed analysis of \"\n",
    "              \"risk exposure and suggests safeguards to ensure that \"\n",
    "              \"trading activities align with the firm’s risk tolerance.\",\n",
    "    verbose=True,\n",
    "    allow_delegation=True,\n",
    "    tools = [scrape_tool, search_tool]\n",
    ")"
   ]
  },
  {
   "cell_type": "markdown",
   "metadata": {},
   "source": [
    "## Creating Tasks"
   ]
  },
  {
   "cell_type": "code",
   "execution_count": 9,
   "metadata": {
    "height": 266
   },
   "outputs": [],
   "source": [
    "# Task for Data Analyst Agent: Analyze Market Data\n",
    "data_analysis_task = Task(\n",
    "    description=(\n",
    "        \"Continuously monitor and analyze market data for \"\n",
    "        \"the selected stock ({stock_selection}). \"\n",
    "        \"Use statistical modeling and machine learning to \"\n",
    "        \"identify trends and predict market movements.\"\n",
    "    ),\n",
    "    expected_output=(\n",
    "        \"Insights and alerts about significant market \"\n",
    "        \"opportunities or threats for {stock_selection}.\"\n",
    "    ),\n",
    "    agent=data_analyst_agent,\n",
    ")"
   ]
  },
  {
   "cell_type": "code",
   "execution_count": 10,
   "metadata": {
    "height": 283
   },
   "outputs": [],
   "source": [
    "# Task for Trading Strategy Agent: Develop Trading Strategies\n",
    "strategy_development_task = Task(\n",
    "    description=(\n",
    "        \"Develop and refine trading strategies based on \"\n",
    "        \"the insights from the Data Analyst and \"\n",
    "        \"user-defined risk tolerance ({risk_tolerance}). \"\n",
    "        \"Consider trading preferences ({trading_strategy_preference}).\"\n",
    "    ),\n",
    "    expected_output=(\n",
    "        \"A set of potential trading strategies for {stock_selection} \"\n",
    "        \"that align with the user's risk tolerance.\"\n",
    "    ),\n",
    "    agent=trading_strategy_agent,\n",
    ")\n"
   ]
  },
  {
   "cell_type": "code",
   "execution_count": 11,
   "metadata": {
    "height": 266
   },
   "outputs": [],
   "source": [
    "# Task for Trade Advisor Agent: Plan Trade Execution\n",
    "execution_planning_task = Task(\n",
    "    description=(\n",
    "        \"Analyze approved trading strategies to determine the \"\n",
    "        \"best execution methods for {stock_selection}, \"\n",
    "        \"considering current market conditions and optimal pricing.\"\n",
    "    ),\n",
    "    expected_output=(\n",
    "        \"Detailed execution plans suggesting how and when to \"\n",
    "        \"execute trades for {stock_selection}.\"\n",
    "    ),\n",
    "    agent=execution_agent,\n",
    ")\n"
   ]
  },
  {
   "cell_type": "code",
   "execution_count": 12,
   "metadata": {
    "height": 266
   },
   "outputs": [],
   "source": [
    "# Task for Risk Advisor Agent: Assess Trading Risks\n",
    "risk_assessment_task = Task(\n",
    "    description=(\n",
    "        \"Evaluate the risks associated with the proposed trading \"\n",
    "        \"strategies and execution plans for {stock_selection}. \"\n",
    "        \"Provide a detailed analysis of potential risks \"\n",
    "        \"and suggest mitigation strategies.\"\n",
    "    ),\n",
    "    expected_output=(\n",
    "        \"A comprehensive risk analysis report detailing potential \"\n",
    "        \"risks and mitigation recommendations for {stock_selection}.\"\n",
    "    ),\n",
    "    agent=risk_management_agent,\n",
    ")"
   ]
  },
  {
   "cell_type": "markdown",
   "metadata": {},
   "source": [
    "## Creating the Crew\n",
    "- The `Process` class helps to delegate the workflow to the Agents (kind of like a Manager at work)\n",
    "- In the example below, it will run this hierarchically.\n",
    "- `manager_llm` lets you choose the \"manager\" LLM you want to use."
   ]
  },
  {
   "cell_type": "code",
   "execution_count": 13,
   "metadata": {
    "height": 368
   },
   "outputs": [],
   "source": [
    "from crewai import Crew, Process\n",
    "from langchain_openai import ChatOpenAI\n",
    "\n",
    "# Define the crew with agents and tasks\n",
    "financial_trading_crew = Crew(\n",
    "    agents=[data_analyst_agent, \n",
    "            trading_strategy_agent, \n",
    "            execution_agent, \n",
    "            risk_management_agent],\n",
    "    \n",
    "    tasks=[data_analysis_task, \n",
    "           strategy_development_task, \n",
    "           execution_planning_task, \n",
    "           risk_assessment_task],\n",
    "    \n",
    "    manager_llm=ChatOpenAI(model=\"gpt-3.5-turbo\", \n",
    "                           temperature=0.7),\n",
    "    process=Process.hierarchical,\n",
    "    verbose=True\n",
    ")"
   ]
  },
  {
   "cell_type": "markdown",
   "metadata": {},
   "source": [
    "## Running the Crew\n",
    "\n",
    "- Set the inputs for the execution of the crew."
   ]
  },
  {
   "cell_type": "code",
   "execution_count": 14,
   "metadata": {
    "height": 164
   },
   "outputs": [],
   "source": [
    "# Example data for kicking off the process\n",
    "financial_trading_inputs = {\n",
    "    'stock_selection': 'AAPL',\n",
    "    'initial_capital': '100000',\n",
    "    'risk_tolerance': 'Medium',\n",
    "    'trading_strategy_preference': 'Day Trading',\n",
    "    'news_impact_consideration': True\n",
    "}"
   ]
  },
  {
   "cell_type": "markdown",
   "metadata": {},
   "source": [
    "**Note**: LLMs can provide different outputs for they same input, so what you get might be different than what you see in the video."
   ]
  },
  {
   "cell_type": "code",
   "execution_count": null,
   "metadata": {
    "height": 62
   },
   "outputs": [
    {
     "name": "stdout",
     "output_type": "stream",
     "text": [
      "\u001b[1m\u001b[92m [DEBUG]: Working Agent: Crew Manager\u001b[00m\n",
      "\u001b[1m\u001b[92m [INFO]: Starting Task: Continuously monitor and analyze market data for the selected stock (AAPL). Use statistical modeling and machine learning to identify trends and predict market movements.\u001b[00m\n",
      "\n",
      "\n",
      "\u001b[1m> Entering new CrewAgentExecutor chain...\u001b[0m\n",
      "\u001b[32;1m\u001b[1;3mI need to delegate the task of continuously monitoring and analyzing market data for AAPL to the Data Analyst, as they are best equipped to handle statistical modeling and machine learning.\n",
      "\n",
      "Action: Delegate work to co-worker\n",
      "Action Input: {\"coworker\": \"Data Analyst\", \"task\": \"Continuously monitor and analyze market data for AAPL using statistical modeling and machine learning\", \"context\": \"The goal is to identify trends and predict market movements for AAPL\"}\u001b[0m\n",
      "\n",
      "\u001b[1m> Entering new CrewAgentExecutor chain...\u001b[0m\n",
      "\u001b[32;1m\u001b[1;3mI need to gather real-time market data for AAPL and analyze it using statistical modeling and machine learning to predict market movements.\n",
      "\n",
      "Action: Read website content\n",
      "Action Input: {\"website_url\": \"https://finance.yahoo.com/quote/AAPL\"}\u001b[0m\u001b[95m \n",
      "\n",
      "Apple Inc. (AAPL) Stock Price, News, Quote & History - Yahoo Finance Oops, something went wrong News Today's news US Politics World Tech Audio Computing Gaming Wordle Home entertainment TVs Phones Science Streaming Streaming reviews VPN Wearables Deals More AI Apps AR and VR Business Cameras Cyber security Entertainment General Smart home Social media Transportation Weather Climate change Health Wellness Mental health Sexual health Dermatology Oral health Hair loss Foot health Nutrition Healthy eating Meal delivery Weight loss Vitamins and supplements Fitness Equipment Exercise Women’s health Sleep Healthy aging Hearing Mobility Science Originals The 360 Newsletters Life Health COVID-19 Fall allergies Health news Mental health Relax Sexual health Studies The Unwind Parenting Family health So mini ways Style and beauty It Figures Unapologetically Horoscopes Shopping Deals Animal and pet supplies Apparel and accessories Arts and entertainment Baby and kids Cameras Electronics Furniture Hardware Health and beauty Home essentials Local services Luggage and bags Office supplies Software Things to do Toys and games Vehicles and parts Stores Style Accessories Clothing Luggage Shoes Beauty Hair Makeup Skincare Sunscreen Health Dental Fitness Hair loss Hearing aids Mental health Mobility Nutrition Personal care Sleep Women's health Home essentials Bedding Cleaning Kitchen Outdoor Tech Accessories Audio Auto Computers Phones Smart home TVs Gift ideas Shopping Guides Best non-toxic cutting boards Best heated socks Best body wash Best cordless stick vacuums Best makeup removers Food Travel Autos Gift ideas Buying guides Entertainment Celebrity TV Movies Music How to Watch Interviews Videos Finance My Portfolio News Latest Stock Market Originals Tariff Updates Newsletters Economies Premium News Earnings Tech Housing Crypto Mergers & IPOs Electric Vehicles Inflation Markets Stocks: Most Actives Stocks: Gainers Stocks: Losers Trending Tickers Futures World Indices US Treasury Bonds Rates Currencies Crypto Top ETFs Top Mutual Funds Options: Highest Open Interest Options: Highest Implied Volatility Sectors Basic Materials Communication Services Consumer Cyclical Consumer Defensive Energy Financial Services Healthcare Industrials Real Estate Technology Utilities Private Companies Research Screeners Calendar Stock Comparison Advanced Chart Currency Converter Investment Ideas Research Reports Personal Finance Credit Cards Banking Best HYSA Student Loans Personal Loans Insurance Mortgages Mortgage Calculator Taxes Videos Latest Editor's Picks Investing Insights Trending Stocks All Shows Morning Brief Opening Bid Wealth ETF Report Trade This Way Options 101 Davos 2025 FA Corner Financial Freestyle Milken Watch Now Sports Fantasy News Fantasy football Best ball Pro Pick 'Em College Pick 'Em Fantasy baseball Fantasy hockey Fantasy basketball Download the app Daily fantasy NFL News Scores and schedules Standings Stats Teams Players Drafts Injuries Odds Super Bowl GameChannel Videos NBA News Draft Scores and schedules Standings Stats Teams Players Inuries Videos Odds Playoffs MLB News Scores and schedules Standings Stats Teams Players Odds Videos World Baseball Classic NHL News Scores and schedules Standings Stats Teams Players Odds Playoffs College football News Scores and schedules Standings Rankings Stats Teams College basketball Soccer News Scores and schedules Premier League MLS NWSL Liga MX CONCACAF League Champions League La Liga Serie A Bundesliga Ligue 1 World Cup NFL Draft Yahoo Sports AM Show all WNBA Sportsbook NCAAF Tennis Golf NASCAR NCAAB NCAAW Boxing USFL Cycling Motorsports Olympics Horse racing GameChannel Rivals Newsletters Podcasts Videos RSS Jobs Help World Cup More news New on Yahoo Creators Games Tech Local services Terms Privacy Your Privacy Choices CA Privacy Notice Feedback © 2025 All rights reserved. About our ads Advertising Careers Yahoo Finance Yahoo Finance Search query Select edition USEnglish US y LATAMEspañol AustraliaEnglish CanadaEnglish CanadaFrançais DeutschlandDeutsch FranceFrançais 香港繁中 MalaysiaEnglish New ZealandEnglish SingaporeEnglish 台灣繁中 UKEnglish News Finance Sports More News Today's news US Politics World Weather Climate change Health Science Originals Newsletters Life Health Parenting Style and beauty Horoscopes Shopping Food Travel Autos Gift ideas Buying guides Entertainment Celebrity TV Movies Music How to Watch Interviews Videos Finance My portfolio Watchlists Markets News Videos Screeners Personal finance Crypto Sectors Sports Fantasy NFL NBA MLB NHL College football College basketball Soccer NFL Draft Yahoo Sports AM New on Yahoo Creators Games Tech Local services Selected edition USEnglish Mail Sign in My Portfolio News Latest Stock Market Originals Tariff Updates Newsletters Economies Premium News Earnings Tech Housing Crypto Mergers & IPOs Electric Vehicles Inflation Markets Stocks: Most Actives Stocks: Gainers Stocks: Losers Trending Tickers Futures World Indices US Treasury Bonds Rates Currencies Crypto Top ETFs Top Mutual Funds Options: Highest Open Interest Options: Highest Implied Volatility Sectors Basic Materials Communication Services Consumer Cyclical Consumer Defensive Energy Financial Services Healthcare Industrials Real Estate Technology Utilities Private Companies Research Screeners Calendar Stock Comparison Advanced Chart Currency Converter Investment Ideas Research Reports Personal Finance Credit Cards Banking Best HYSA Student Loans Personal Loans Insurance Mortgages Mortgage Calculator Taxes Videos Latest Editor's Picks Investing Insights Trending Stocks All Shows Morning Brief Opening Bid Wealth ETF Report Trade This Way Options 101 Davos 2025 FA Corner Financial Freestyle Milken Watch Now … \n",
      "Upgrade to Premium\n",
      " AAPL Apple Inc. 195.80 +0.27% Summary News Research Chart Community Statistics Historical Data Profile Financials Analysis Options Holders Sustainability NasdaqGS - Nasdaq Real Time Price • USD Apple Inc. (AAPL) Follow Add holdings Time to buy AAPL? 195.27 -6.09 (-3.02%) At close: May 23 at 4:00:01 PM EDT 195.80 +0.53 +(0.27%) After hours: May 23 at 7:59:59 PM EDT Time to buy AAPL? 1D 5D -7.57% 1M -4.56% 6M -15.05% YTD -22.02% 1Y 4.49% 5Y 144.94% All 152,041.08% Key Events Mountain Advanced Chart Loading Chart for AAPL Previous Close 201.36 Open 193.66 Bid 195.11 x 400 Ask 195.74 x 400 Day's Range 193.46 - 197.70 52 Week Range 169.21 - 260.10 Volume 77,631,468 Avg. Volume 61,869,572 Market Cap (intraday) 2.917T Beta (5Y Monthly) 1.27 PE Ratio (TTM) 30.42 EPS (TTM) 6.42 Earnings Date Jul 30, 2025 - Aug 4, 2025 Forward Dividend & Yield 1.04 (0.53%) Ex-Dividend Date May 12, 2025 1y Target Est 228.76 Apple Inc. Overview Consumer Electronics / Technology Apple Inc. designs, manufactures, and markets smartphones, personal computers, tablets, wearables, and accessories worldwide. The company offers iPhone, a line of smartphones; Mac, a line of personal computers; iPad, a line of multi-purpose tablets; and wearables, home, and accessories comprising AirPods, Apple TV, Apple Watch, Beats products, and HomePod. It also provides AppleCare support and cloud services; and operates various platforms, including the App Store that allow customers to discover and download applications and digital content, such as books, music, video, games, and podcasts, as well as advertising services include third-party licensing arrangements and its own advertising platforms. In addition, the company offers various subscription-based services, such as Apple Arcade, a game subscription service; Apple Fitness+, a personalized fitness service; Apple Music, which offers users a curated listening experience with on-demand radio stations; Apple News+, a subscription news and magazine service; Apple TV+, which offers exclusive original content; Apple Card, a co-branded credit card; and Apple Pay, a cashless payment service, as well as licenses its intellectual property. The company serves consumers, and small and mid-sized businesses; and the education, enterprise, and government markets. It distributes third-party applications for its products through the App Store. The company also sells its products through its retail and online stores, and direct sales force; and third-party cellular network carriers, wholesalers, retailers, and resellers. Apple Inc. was founded in 1976 and is headquartered in Cupertino, California. www.apple.com 164,000 Full Time Employees September 28 Fiscal Year Ends Technology Sector Consumer Electronics Industry More about Apple Inc. Recent News: AAPL View More All News Press Releases SEC Filings View More Performance Overview: AAPL Trailing total returns as of 5/23/2025, which may include dividends or other distributions. Benchmark is S&P 500 (^GSPC) . YTD Return AAPL 21.83% S&P 500 (^GSPC) 1.34% 1-Year Return AAPL 4.98% S&P 500 (^GSPC) 10.16% 3-Year Return AAPL 38.64% S&P 500 (^GSPC) 46.03% 5-Year Return AAPL 151.97% S&P 500 (^GSPC) 96.34% Compare To: AAPL Compare Select to analyze similar companies using key performance metrics; select up to 4 stocks. AAPL Apple Inc. 195.27 -3.02% Mkt Cap 2.917T Industry Consumer Electronics SONY Sony Group Corporation 25.53 +0.79% Mkt Cap 154.073B Industry Consumer Electronics XIACY Xiaomi Corporation 33.64 -0.12% Mkt Cap 175.46B Industry Consumer Electronics KOSS Koss Corporation 6.00 +2.92% Mkt Cap 56.255M Industry Consumer Electronics 1810.HK XIAOMI-W 53.000 -0.38% Mkt Cap HKD 1.374T Industry Consumer Electronics XIACF Xiaomi Corporation 6.74 +0.37% Mkt Cap 175.46B Industry Consumer Electronics 005930.KS Samsung Electronics Co., Ltd. 54,200.00 -0.91% Mkt Cap KRW 357.482T Industry Consumer Electronics GPRO GoPro, Inc. 0.5767 -1.80% Mkt Cap 90.858M Industry Consumer Electronics 2498.TW HTC Corporation 40.10 -1.60% Mkt Cap TWD 33.558B Industry Consumer Electronics SONO Sonos, Inc. 9.69 -2.71% Mkt Cap 1.164B Industry Consumer Electronics 4749.TWO Advanced Echem Materials Company Limited 557.00 +0.36% Mkt Cap TWD 51.652B Industry Consumer Electronics Statistics: AAPL View More Valuation Measures Current Quarterly Annual As of 5/23/2025 Market Cap 2.92T Enterprise Value 2.97T Trailing P/E 30.42 Forward P/E 27.25 PEG Ratio (5yr expected) 1.99 Price/Sales (ttm) 7.41 Price/Book (mrq) 43.66 Enterprise Value/Revenue 7.41 Enterprise Value/EBITDA 21.36 Financial Highlights Profitability and Income Statement Profit Margin 24.30% Return on Assets (ttm) 23.81% Return on Equity (ttm) 138.01% Revenue (ttm) 400.37B Net Income Avi to Common (ttm) 97.29B Diluted EPS (ttm) 6.42 Balance Sheet and Cash Flow Total Cash (mrq) 48.5B Total Debt/Equity (mrq) 146.99% Levered Free Cash Flow (ttm) 97.25B View More Research Analysis: AAPL View More View More Company Insights: AAPL Research Reports: AAPL View More View More People Also Watch AMZN Amazon.com, Inc. 200.99 -1.04% TSLA Tesla, Inc. 339.34 -0.50% GOOG Alphabet Inc. 169.59 -1.39% META Meta Platforms, Inc. 627.06 -1.49% MSFT Microsoft Corporation 450.18 -1.03% NVDA NVIDIA Corporation 131.29 -1.16% NFLX Netflix, Inc. 1,185.39 -0.22% AMD Advanced Micro Devices, Inc. 110.31 -0.36% DIS The Walt Disney Company 109.72 -1.27% INTC Intel Corporation 20.05 -2.43% JPM JPMorgan Chase & Co. 260.71 +0.02% BA The Boeing Company 202.36 -0.52% BABA Alibaba Group Holding Limited 120.73 -0.62% F Ford Motor Company 10.36 -0.77% BAC Bank of America Corporation 43.20 -0.25% KO The Coca-Cola Company 71.77 +0.89% Copyright © 2025 Yahoo. All rights reserved. What's trending Dow Jones S&P 500 DAX Index Nvidia Tesla DJT Tariffs Explore more Mortgages Credit Cards Sectors Crypto Heatmap Financial News About Data Disclaimer Help Feedback Sitemap Licensing What's New About Our Ads Premium Plans Terms and Privacy Policy Your Privacy Choices CA Privacy Notice More Info U.S. markets closed US Europe Asia Rates Commodities Currencies Cryptocurrencies S&P 500 5,802.82 -39.19 (-0.67%) Dow 30 41,603.07 -256.02 (-0.61%) Nasdaq 18,737.21 -188.53 (-1.00%) Russell 2000 2,039.85 -5.71 (-0.28%) VIX 22.29 +2.01 (+9.91%) Gold 3,357.70 +62.70 (+1.90%) Portfolio Portfolio Sign in to access your portfolio Sign in Top gainers MRUS Merus N.V. 55.14 +13.54 (+32.55%) RGC Regencell Bioscience Holdings Limited 560.00 +118.52 (+26.85%) UEC Uranium Energy Corp. 6.45 +1.29 (+25.00%) OKLO Oklo Inc. 48.87 +9.15 (+23.04%) X United States Steel Corporation 52.01 +9.11 (+21.24%) Top losers DECK Deckers Outdoor Corporation 101.05 -25.04 (-19.86%) MNSO MINISO Group Holding Limited 18.29 -3.90 (-17.58%) BAH Booz Allen Hamilton Holding Corporation 107.79 -21.34 (-16.53%) PONY Pony AI Inc. 17.41 -3.18 (-15.44%) WDAY Workday, Inc. 238.01 -34.06 (-12.52%) Most active NVDA NVIDIA Corporation 131.29 -1.54 (-1.16%) QBTS D-Wave Quantum Inc. 18.80 -0.24 (-1.26%) RGTI Rigetti Computing, Inc. 14.02 +0.16 (+1.15%) OKLO Oklo Inc. 48.87 +9.15 (+23.04%) LCID Lucid Group, Inc. 2.5600 -0.1000 (-3.76%) Earnings events Trending tickers BTC-USD Bitcoin USD 107,567.34 -549.34 (-0.51%) PAA Plains All American Pipeline, L.P. 16.74 +0.12 (+0.72%) HHH Howard Hughes Holdings Inc. 66.64 -0.42 (-0.63%) ETH-USD Ethereum USD 2,490.77 -62.96 (-2.47%) RGC Regencell Bioscience Holdings Limited 560.00 +118.52 (+26.85%) Top economic events Terms and Privacy Policy Your Privacy Choices CA Privacy Notice Ad Terms Feedback More Info\n",
      "\u001b[00m\n"
     ]
    }
   ],
   "source": [
    "### this execution will take some time to run\n",
    "result = financial_trading_crew.kickoff(inputs=financial_trading_inputs)"
   ]
  },
  {
   "cell_type": "markdown",
   "metadata": {},
   "source": [
    "- Display the final result as Markdown."
   ]
  },
  {
   "cell_type": "code",
   "execution_count": null,
   "metadata": {
    "height": 47
   },
   "outputs": [],
   "source": [
    "from IPython.display import Markdown\n",
    "Markdown(result)"
   ]
  },
  {
   "cell_type": "code",
   "execution_count": null,
   "metadata": {
    "height": 30
   },
   "outputs": [],
   "source": []
  },
  {
   "cell_type": "code",
   "execution_count": null,
   "metadata": {
    "height": 30
   },
   "outputs": [],
   "source": []
  }
 ],
 "metadata": {
  "kernelspec": {
   "display_name": "Python 3 (ipykernel)",
   "language": "python",
   "name": "python3"
  },
  "language_info": {
   "codemirror_mode": {
    "name": "ipython",
    "version": 3
   },
   "file_extension": ".py",
   "mimetype": "text/x-python",
   "name": "python",
   "nbconvert_exporter": "python",
   "pygments_lexer": "ipython3",
   "version": "3.11.9"
  }
 },
 "nbformat": 4,
 "nbformat_minor": 4
}
